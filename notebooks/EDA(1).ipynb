{
 "cells": [
  {
   "cell_type": "code",
   "execution_count": 13,
   "id": "initial_id",
   "metadata": {
    "collapsed": true,
    "ExecuteTime": {
     "end_time": "2024-05-17T18:04:26.130578Z",
     "start_time": "2024-05-17T18:04:26.125028Z"
    }
   },
   "outputs": [],
   "source": [
    "import pandas as pd"
   ]
  },
  {
   "cell_type": "code",
   "execution_count": 14,
   "outputs": [],
   "source": [
    "df_negative = pd.read_csv('../data/negative_reviews.csv', sep=',')\n",
    "df_neutral = pd.read_csv('../data/neutral_reviews.csv', sep=',')\n",
    "df_useful = pd.read_csv('../data/useful_reviews.csv', sep=',')\n",
    "df_fresh = pd.read_csv('../data/fresh_reviews.csv', sep=',')\n",
    "df_with_photo = pd.read_csv('../data/with_photo_useful_reviews.csv', sep=',')\n",
    "df_old = pd.read_csv('../data/old_reviews.csv', sep=',')\n",
    "df_merged = pd.concat([df_negative, df_neutral, df_useful, df_fresh, df_with_photo, df_old], axis = 0).reset_index(drop=True)\n",
    "df_merged = df_merged.drop_duplicates()"
   ],
   "metadata": {
    "collapsed": false,
    "ExecuteTime": {
     "end_time": "2024-05-17T18:04:27.226168Z",
     "start_time": "2024-05-17T18:04:27.173670Z"
    }
   },
   "id": "7f6313be03996c2c"
  },
  {
   "cell_type": "code",
   "execution_count": 15,
   "outputs": [
    {
     "data": {
      "text/plain": "                 Date             City  Score       Review_usage  \\\n0      2 месяца назад            Бугры      1       менее месяца   \n1         Месяц назад     Белые Столбы      1       менее месяца   \n2        5 дней назад     Новошахтинск      1         Не указано   \n3     5 месяцев назад           Москва      1       менее месяца   \n4      2 недели назад           Самара      1         Не указано   \n...               ...              ...    ...                ...   \n3513  9 месяцев назад  Санкт-Петербург      5       менее месяца   \n3514  9 месяцев назад           Москва      5  несколько месяцев   \n3516  9 месяцев назад           Москва      5       менее месяца   \n3518  9 месяцев назад           Москва      5         Не указано   \n3519  9 месяцев назад        Северская      5         Не указано   \n\n                                             Review_pro  \\\n0              Айфон 14 на 512 не может не радовать, но   \n1        В остальном все ок, но эта функция очень важна   \n2     Телефон пришел идеальный, НО через две недели ...   \n3                           Достоинств замечено не было   \n4                         Нет блока зарядки и наушников   \n...                                                 ...   \n3513                                              Aifon   \n3514     Качество, память, защита от грязи, аккумулятор   \n3516                                           Качество   \n3518                         Отличная фото/видео камера   \n3519                                     Отличный,новый   \n\n                                          Review_contra  \\\n0     Телефон восстановленный, никто и не думал что ...   \n1                              Не работает модуль e-sim   \n2                                          Описаны выше   \n3                                Худшая покупка в жизни   \n4                                           Разочаровал   \n...                                                 ...   \n3513                                                нет   \n3514                                                Нет   \n3516                                                 Не   \n3518                                            Дорогой   \n3519                                                Нет   \n\n                                         Review_comment  Like_count  \\\n0     В общем и целом, процессор и оперативная памят...           0   \n1     Сегодня забрал айфон из пункта выдачи, при нас...           0   \n2     Товар не оправдал ожиданий, просто попали на д...           0   \n3     Купил у навитойс «новый» iPhone 14, и начались...          10   \n4     К сожалению, цена комплекта без зарядного устр...           0   \n...                                                 ...         ...   \n3513                                   Нет комментариев           0   \n3514                     Камера улёт, в руке как влитой           1   \n3516                                         Не указано           0   \n3518           Телефон как телефон, но снимает отлично.           0   \n3519                                         Не указано           0   \n\n      Dislike_counts           Shop_review  \n0                  0            APP-Seller  \n1                  0           White Store  \n2                  0           White Store  \n3                  0              NAVITOYS  \n4                  0             You:store  \n...              ...                   ...  \n3513               0  Точка Сеть магазинов  \n3514               1          video-shoper  \n3516               0            Техно Ленд  \n3518               1              Sibdroid  \n3519               0                  EMir  \n\n[2585 rows x 10 columns]",
      "text/html": "<div>\n<style scoped>\n    .dataframe tbody tr th:only-of-type {\n        vertical-align: middle;\n    }\n\n    .dataframe tbody tr th {\n        vertical-align: top;\n    }\n\n    .dataframe thead th {\n        text-align: right;\n    }\n</style>\n<table border=\"1\" class=\"dataframe\">\n  <thead>\n    <tr style=\"text-align: right;\">\n      <th></th>\n      <th>Date</th>\n      <th>City</th>\n      <th>Score</th>\n      <th>Review_usage</th>\n      <th>Review_pro</th>\n      <th>Review_contra</th>\n      <th>Review_comment</th>\n      <th>Like_count</th>\n      <th>Dislike_counts</th>\n      <th>Shop_review</th>\n    </tr>\n  </thead>\n  <tbody>\n    <tr>\n      <th>0</th>\n      <td>2 месяца назад</td>\n      <td>Бугры</td>\n      <td>1</td>\n      <td>менее месяца</td>\n      <td>Айфон 14 на 512 не может не радовать, но</td>\n      <td>Телефон восстановленный, никто и не думал что ...</td>\n      <td>В общем и целом, процессор и оперативная памят...</td>\n      <td>0</td>\n      <td>0</td>\n      <td>APP-Seller</td>\n    </tr>\n    <tr>\n      <th>1</th>\n      <td>Месяц назад</td>\n      <td>Белые Столбы</td>\n      <td>1</td>\n      <td>менее месяца</td>\n      <td>В остальном все ок, но эта функция очень важна</td>\n      <td>Не работает модуль e-sim</td>\n      <td>Сегодня забрал айфон из пункта выдачи, при нас...</td>\n      <td>0</td>\n      <td>0</td>\n      <td>White Store</td>\n    </tr>\n    <tr>\n      <th>2</th>\n      <td>5 дней назад</td>\n      <td>Новошахтинск</td>\n      <td>1</td>\n      <td>Не указано</td>\n      <td>Телефон пришел идеальный, НО через две недели ...</td>\n      <td>Описаны выше</td>\n      <td>Товар не оправдал ожиданий, просто попали на д...</td>\n      <td>0</td>\n      <td>0</td>\n      <td>White Store</td>\n    </tr>\n    <tr>\n      <th>3</th>\n      <td>5 месяцев назад</td>\n      <td>Москва</td>\n      <td>1</td>\n      <td>менее месяца</td>\n      <td>Достоинств замечено не было</td>\n      <td>Худшая покупка в жизни</td>\n      <td>Купил у навитойс «новый» iPhone 14, и начались...</td>\n      <td>10</td>\n      <td>0</td>\n      <td>NAVITOYS</td>\n    </tr>\n    <tr>\n      <th>4</th>\n      <td>2 недели назад</td>\n      <td>Самара</td>\n      <td>1</td>\n      <td>Не указано</td>\n      <td>Нет блока зарядки и наушников</td>\n      <td>Разочаровал</td>\n      <td>К сожалению, цена комплекта без зарядного устр...</td>\n      <td>0</td>\n      <td>0</td>\n      <td>You:store</td>\n    </tr>\n    <tr>\n      <th>...</th>\n      <td>...</td>\n      <td>...</td>\n      <td>...</td>\n      <td>...</td>\n      <td>...</td>\n      <td>...</td>\n      <td>...</td>\n      <td>...</td>\n      <td>...</td>\n      <td>...</td>\n    </tr>\n    <tr>\n      <th>3513</th>\n      <td>9 месяцев назад</td>\n      <td>Санкт-Петербург</td>\n      <td>5</td>\n      <td>менее месяца</td>\n      <td>Aifon</td>\n      <td>нет</td>\n      <td>Нет комментариев</td>\n      <td>0</td>\n      <td>0</td>\n      <td>Точка Сеть магазинов</td>\n    </tr>\n    <tr>\n      <th>3514</th>\n      <td>9 месяцев назад</td>\n      <td>Москва</td>\n      <td>5</td>\n      <td>несколько месяцев</td>\n      <td>Качество, память, защита от грязи, аккумулятор</td>\n      <td>Нет</td>\n      <td>Камера улёт, в руке как влитой</td>\n      <td>1</td>\n      <td>1</td>\n      <td>video-shoper</td>\n    </tr>\n    <tr>\n      <th>3516</th>\n      <td>9 месяцев назад</td>\n      <td>Москва</td>\n      <td>5</td>\n      <td>менее месяца</td>\n      <td>Качество</td>\n      <td>Не</td>\n      <td>Не указано</td>\n      <td>0</td>\n      <td>0</td>\n      <td>Техно Ленд</td>\n    </tr>\n    <tr>\n      <th>3518</th>\n      <td>9 месяцев назад</td>\n      <td>Москва</td>\n      <td>5</td>\n      <td>Не указано</td>\n      <td>Отличная фото/видео камера</td>\n      <td>Дорогой</td>\n      <td>Телефон как телефон, но снимает отлично.</td>\n      <td>0</td>\n      <td>1</td>\n      <td>Sibdroid</td>\n    </tr>\n    <tr>\n      <th>3519</th>\n      <td>9 месяцев назад</td>\n      <td>Северская</td>\n      <td>5</td>\n      <td>Не указано</td>\n      <td>Отличный,новый</td>\n      <td>Нет</td>\n      <td>Не указано</td>\n      <td>0</td>\n      <td>0</td>\n      <td>EMir</td>\n    </tr>\n  </tbody>\n</table>\n<p>2585 rows × 10 columns</p>\n</div>"
     },
     "execution_count": 15,
     "metadata": {},
     "output_type": "execute_result"
    }
   ],
   "source": [
    "df_merged"
   ],
   "metadata": {
    "collapsed": false,
    "ExecuteTime": {
     "end_time": "2024-05-17T18:04:28.395079Z",
     "start_time": "2024-05-17T18:04:28.392228Z"
    }
   },
   "id": "fe338ccbd464ee25"
  },
  {
   "cell_type": "code",
   "execution_count": 16,
   "outputs": [
    {
     "data": {
      "text/plain": "(2585, 10)"
     },
     "execution_count": 16,
     "metadata": {},
     "output_type": "execute_result"
    }
   ],
   "source": [
    "df_merged.shape"
   ],
   "metadata": {
    "collapsed": false,
    "ExecuteTime": {
     "end_time": "2024-05-17T18:04:29.734879Z",
     "start_time": "2024-05-17T18:04:29.732155Z"
    }
   },
   "id": "7e250657de5edf87"
  },
  {
   "cell_type": "code",
   "execution_count": 17,
   "outputs": [
    {
     "data": {
      "text/plain": "Score\n5    2232\n4     203\n1      75\n3      57\n2      18\nName: count, dtype: int64"
     },
     "execution_count": 17,
     "metadata": {},
     "output_type": "execute_result"
    }
   ],
   "source": [
    "df_merged['Score'].value_counts()"
   ],
   "metadata": {
    "collapsed": false,
    "ExecuteTime": {
     "end_time": "2024-05-17T18:04:31.440052Z",
     "start_time": "2024-05-17T18:04:31.436578Z"
    }
   },
   "id": "c002f5f3d9a89874"
  },
  {
   "cell_type": "code",
   "execution_count": 18,
   "outputs": [
    {
     "data": {
      "text/plain": "City\nМосква             603\nСанкт-Петербург    155\nЕкатеринбург        79\nНе указано          69\nКраснодар           59\n                  ... \nНовомичуринск        1\nРевда                1\nСергач               1\nМалоярославец        1\nЮжно-Сахалинск       1\nName: count, Length: 503, dtype: int64"
     },
     "execution_count": 18,
     "metadata": {},
     "output_type": "execute_result"
    }
   ],
   "source": [
    "df_merged['City'].value_counts()"
   ],
   "metadata": {
    "collapsed": false,
    "ExecuteTime": {
     "end_time": "2024-05-17T18:04:35.546937Z",
     "start_time": "2024-05-17T18:04:35.543679Z"
    }
   },
   "id": "e445dda8fac8a95e"
  },
  {
   "cell_type": "code",
   "execution_count": 19,
   "outputs": [
    {
     "data": {
      "text/plain": "Review_usage\nНе указано           1200\nменее месяца          949\nнесколько месяцев     410\nболее года             26\nName: count, dtype: int64"
     },
     "execution_count": 19,
     "metadata": {},
     "output_type": "execute_result"
    }
   ],
   "source": [
    "df_merged['Review_usage'].value_counts()"
   ],
   "metadata": {
    "collapsed": false,
    "ExecuteTime": {
     "end_time": "2024-05-17T18:04:43.379899Z",
     "start_time": "2024-05-17T18:04:43.377299Z"
    }
   },
   "id": "167f84cc85b6884e"
  },
  {
   "cell_type": "code",
   "execution_count": 20,
   "outputs": [
    {
     "data": {
      "text/plain": "(1000, 10)"
     },
     "execution_count": 20,
     "metadata": {},
     "output_type": "execute_result"
    }
   ],
   "source": [
    "df_fresh = pd.read_csv('../data/old_reviews.csv', sep=',')\n",
    "df_fresh.shape"
   ],
   "metadata": {
    "collapsed": false,
    "ExecuteTime": {
     "end_time": "2024-05-17T18:04:51.930081Z",
     "start_time": "2024-05-17T18:04:51.916666Z"
    }
   },
   "id": "2204cc5180b13b97"
  },
  {
   "cell_type": "code",
   "execution_count": 31,
   "outputs": [
    {
     "data": {
      "text/plain": "Empty DataFrame\nColumns: [Date, City, Score, Review_usage, Review_pro, Review_contra, Review_comment, Like_count, Dislike_counts, Shop_review]\nIndex: []",
      "text/html": "<div>\n<style scoped>\n    .dataframe tbody tr th:only-of-type {\n        vertical-align: middle;\n    }\n\n    .dataframe tbody tr th {\n        vertical-align: top;\n    }\n\n    .dataframe thead th {\n        text-align: right;\n    }\n</style>\n<table border=\"1\" class=\"dataframe\">\n  <thead>\n    <tr style=\"text-align: right;\">\n      <th></th>\n      <th>Date</th>\n      <th>City</th>\n      <th>Score</th>\n      <th>Review_usage</th>\n      <th>Review_pro</th>\n      <th>Review_contra</th>\n      <th>Review_comment</th>\n      <th>Like_count</th>\n      <th>Dislike_counts</th>\n      <th>Shop_review</th>\n    </tr>\n  </thead>\n  <tbody>\n  </tbody>\n</table>\n</div>"
     },
     "execution_count": 31,
     "metadata": {},
     "output_type": "execute_result"
    }
   ],
   "source": [],
   "metadata": {
    "collapsed": false,
    "ExecuteTime": {
     "end_time": "2024-05-17T17:33:15.614290Z",
     "start_time": "2024-05-17T17:33:15.607470Z"
    }
   },
   "id": "134bc3f3276e7fab"
  }
 ],
 "metadata": {
  "kernelspec": {
   "display_name": "Python 3",
   "language": "python",
   "name": "python3"
  },
  "language_info": {
   "codemirror_mode": {
    "name": "ipython",
    "version": 2
   },
   "file_extension": ".py",
   "mimetype": "text/x-python",
   "name": "python",
   "nbconvert_exporter": "python",
   "pygments_lexer": "ipython2",
   "version": "2.7.6"
  }
 },
 "nbformat": 4,
 "nbformat_minor": 5
}
