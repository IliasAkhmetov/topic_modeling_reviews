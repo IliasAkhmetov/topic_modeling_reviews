{
 "cells": [
  {
   "cell_type": "code",
   "execution_count": 1,
   "id": "initial_id",
   "metadata": {
    "collapsed": true,
    "ExecuteTime": {
     "end_time": "2024-05-17T14:34:21.029184Z",
     "start_time": "2024-05-17T14:34:20.775723Z"
    }
   },
   "outputs": [],
   "source": [
    "import pandas as pd"
   ]
  },
  {
   "cell_type": "code",
   "execution_count": 2,
   "outputs": [],
   "source": [
    "df_negative = pd.read_csv('../data/negative_reviews.csv', sep=',')\n",
    "df_neutral = pd.read_csv('../data/neutral_reviews.csv', sep=',')\n",
    "df_useful = pd.read_csv('../data/useful_reviews.csv', sep=',')\n",
    "df_merged = pd.concat([df_negative, df_neutral, df_useful], axis = 0).reset_index(drop=True)\n",
    "df_merged = df_merged.drop_duplicates()"
   ],
   "metadata": {
    "collapsed": false,
    "ExecuteTime": {
     "end_time": "2024-05-17T14:34:26.838236Z",
     "start_time": "2024-05-17T14:34:26.806414Z"
    }
   },
   "id": "7f6313be03996c2c"
  },
  {
   "cell_type": "code",
   "execution_count": 3,
   "outputs": [
    {
     "data": {
      "text/plain": "                 Date          City  Score  Review_usage  \\\n0      2 месяца назад         Бугры      1  менее месяца   \n1         Месяц назад  Белые Столбы      1  менее месяца   \n2        5 дней назад  Новошахтинск      1    Не указано   \n3     5 месяцев назад        Москва      1  менее месяца   \n4      2 недели назад        Самара      1    Не указано   \n...               ...           ...    ...           ...   \n1347   2 месяца назад       Алёшино      5    Не указано   \n1348      Месяц назад        Москва      5    Не указано   \n1349      Месяц назад   Калининская      5    Не указано   \n1350   2 месяца назад        Москва      5  менее месяца   \n1351      Месяц назад       Сызрань      5  менее месяца   \n\n                                             Review_pro  \\\n0              Айфон 14 на 512 не может не радовать, но   \n1        В остальном все ок, но эта функция очень важна   \n2     Телефон пришел идеальный, НО через две недели ...   \n3                           Достоинств замечено не было   \n4                         Нет блока зарядки и наушников   \n...                                                 ...   \n1347                                         Не указано   \n1348                                       Мне нравится   \n1349  всё отлично 👌 спасибо продавцу рекомендую прод...   \n1350                      Бессменной оригинальный айфон   \n1351                          Оригинал. Не активирован.   \n\n                                          Review_contra  \\\n0     Телефон восстановленный, никто и не думал что ...   \n1                              Не работает модуль e-sim   \n2                                          Описаны выше   \n3                                Худшая покупка в жизни   \n4                                           Разочаровал   \n...                                                 ...   \n1347                                         Не указано   \n1348                                         Не указано   \n1349                                         Не указано   \n1350  Цена на данный момент завышена, лучше переплот...   \n1351                                         Не указано   \n\n                                         Review_comment  Like_count  \\\n0     В общем и целом, процессор и оперативная памят...           0   \n1     Сегодня забрал айфон из пункта выдачи, при нас...           0   \n2     Товар не оправдал ожиданий, просто попали на д...           0   \n3     Купил у навитойс «новый» iPhone 14, и начались...          10   \n4     К сожалению, цена комплекта без зарядного устр...           0   \n...                                                 ...         ...   \n1347  Спасибо большое продавцу,всё отлично,коробка н...           0   \n1348                                         Не указано           0   \n1349                                         Не указано           1   \n1350                                         Не указано           0   \n1351                 Большое спасибо за доставку в срок           0   \n\n      Dislike_counts        Shop_review  \n0                  0         APP-Seller  \n1                  0        White Store  \n2                  0        White Store  \n3                  0           NAVITOYS  \n4                  0          You:store  \n...              ...                ...  \n1347               0            S.Store  \n1348               0           ID Store  \n1349               0  Tech Story market  \n1350               0           100STORE  \n1351               0          EL-CASTLE  \n\n[1352 rows x 10 columns]",
      "text/html": "<div>\n<style scoped>\n    .dataframe tbody tr th:only-of-type {\n        vertical-align: middle;\n    }\n\n    .dataframe tbody tr th {\n        vertical-align: top;\n    }\n\n    .dataframe thead th {\n        text-align: right;\n    }\n</style>\n<table border=\"1\" class=\"dataframe\">\n  <thead>\n    <tr style=\"text-align: right;\">\n      <th></th>\n      <th>Date</th>\n      <th>City</th>\n      <th>Score</th>\n      <th>Review_usage</th>\n      <th>Review_pro</th>\n      <th>Review_contra</th>\n      <th>Review_comment</th>\n      <th>Like_count</th>\n      <th>Dislike_counts</th>\n      <th>Shop_review</th>\n    </tr>\n  </thead>\n  <tbody>\n    <tr>\n      <th>0</th>\n      <td>2 месяца назад</td>\n      <td>Бугры</td>\n      <td>1</td>\n      <td>менее месяца</td>\n      <td>Айфон 14 на 512 не может не радовать, но</td>\n      <td>Телефон восстановленный, никто и не думал что ...</td>\n      <td>В общем и целом, процессор и оперативная памят...</td>\n      <td>0</td>\n      <td>0</td>\n      <td>APP-Seller</td>\n    </tr>\n    <tr>\n      <th>1</th>\n      <td>Месяц назад</td>\n      <td>Белые Столбы</td>\n      <td>1</td>\n      <td>менее месяца</td>\n      <td>В остальном все ок, но эта функция очень важна</td>\n      <td>Не работает модуль e-sim</td>\n      <td>Сегодня забрал айфон из пункта выдачи, при нас...</td>\n      <td>0</td>\n      <td>0</td>\n      <td>White Store</td>\n    </tr>\n    <tr>\n      <th>2</th>\n      <td>5 дней назад</td>\n      <td>Новошахтинск</td>\n      <td>1</td>\n      <td>Не указано</td>\n      <td>Телефон пришел идеальный, НО через две недели ...</td>\n      <td>Описаны выше</td>\n      <td>Товар не оправдал ожиданий, просто попали на д...</td>\n      <td>0</td>\n      <td>0</td>\n      <td>White Store</td>\n    </tr>\n    <tr>\n      <th>3</th>\n      <td>5 месяцев назад</td>\n      <td>Москва</td>\n      <td>1</td>\n      <td>менее месяца</td>\n      <td>Достоинств замечено не было</td>\n      <td>Худшая покупка в жизни</td>\n      <td>Купил у навитойс «новый» iPhone 14, и начались...</td>\n      <td>10</td>\n      <td>0</td>\n      <td>NAVITOYS</td>\n    </tr>\n    <tr>\n      <th>4</th>\n      <td>2 недели назад</td>\n      <td>Самара</td>\n      <td>1</td>\n      <td>Не указано</td>\n      <td>Нет блока зарядки и наушников</td>\n      <td>Разочаровал</td>\n      <td>К сожалению, цена комплекта без зарядного устр...</td>\n      <td>0</td>\n      <td>0</td>\n      <td>You:store</td>\n    </tr>\n    <tr>\n      <th>...</th>\n      <td>...</td>\n      <td>...</td>\n      <td>...</td>\n      <td>...</td>\n      <td>...</td>\n      <td>...</td>\n      <td>...</td>\n      <td>...</td>\n      <td>...</td>\n      <td>...</td>\n    </tr>\n    <tr>\n      <th>1347</th>\n      <td>2 месяца назад</td>\n      <td>Алёшино</td>\n      <td>5</td>\n      <td>Не указано</td>\n      <td>Не указано</td>\n      <td>Не указано</td>\n      <td>Спасибо большое продавцу,всё отлично,коробка н...</td>\n      <td>0</td>\n      <td>0</td>\n      <td>S.Store</td>\n    </tr>\n    <tr>\n      <th>1348</th>\n      <td>Месяц назад</td>\n      <td>Москва</td>\n      <td>5</td>\n      <td>Не указано</td>\n      <td>Мне нравится</td>\n      <td>Не указано</td>\n      <td>Не указано</td>\n      <td>0</td>\n      <td>0</td>\n      <td>ID Store</td>\n    </tr>\n    <tr>\n      <th>1349</th>\n      <td>Месяц назад</td>\n      <td>Калининская</td>\n      <td>5</td>\n      <td>Не указано</td>\n      <td>всё отлично 👌 спасибо продавцу рекомендую прод...</td>\n      <td>Не указано</td>\n      <td>Не указано</td>\n      <td>1</td>\n      <td>0</td>\n      <td>Tech Story market</td>\n    </tr>\n    <tr>\n      <th>1350</th>\n      <td>2 месяца назад</td>\n      <td>Москва</td>\n      <td>5</td>\n      <td>менее месяца</td>\n      <td>Бессменной оригинальный айфон</td>\n      <td>Цена на данный момент завышена, лучше переплот...</td>\n      <td>Не указано</td>\n      <td>0</td>\n      <td>0</td>\n      <td>100STORE</td>\n    </tr>\n    <tr>\n      <th>1351</th>\n      <td>Месяц назад</td>\n      <td>Сызрань</td>\n      <td>5</td>\n      <td>менее месяца</td>\n      <td>Оригинал. Не активирован.</td>\n      <td>Не указано</td>\n      <td>Большое спасибо за доставку в срок</td>\n      <td>0</td>\n      <td>0</td>\n      <td>EL-CASTLE</td>\n    </tr>\n  </tbody>\n</table>\n<p>1352 rows × 10 columns</p>\n</div>"
     },
     "execution_count": 3,
     "metadata": {},
     "output_type": "execute_result"
    }
   ],
   "source": [
    "df_merged"
   ],
   "metadata": {
    "collapsed": false,
    "ExecuteTime": {
     "end_time": "2024-05-17T14:34:27.753176Z",
     "start_time": "2024-05-17T14:34:27.746419Z"
    }
   },
   "id": "fe338ccbd464ee25"
  },
  {
   "cell_type": "code",
   "execution_count": 5,
   "outputs": [
    {
     "data": {
      "text/plain": "(1352, 10)"
     },
     "execution_count": 5,
     "metadata": {},
     "output_type": "execute_result"
    }
   ],
   "source": [
    "df_merged.shape"
   ],
   "metadata": {
    "collapsed": false,
    "ExecuteTime": {
     "end_time": "2024-05-17T14:34:38.006264Z",
     "start_time": "2024-05-17T14:34:38.001812Z"
    }
   },
   "id": "7e250657de5edf87"
  },
  {
   "cell_type": "code",
   "execution_count": 6,
   "outputs": [
    {
     "data": {
      "text/plain": "Score\n5    1000\n4     202\n1      75\n3      57\n2      18\nName: count, dtype: int64"
     },
     "execution_count": 6,
     "metadata": {},
     "output_type": "execute_result"
    }
   ],
   "source": [
    "df_merged['Score'].value_counts()"
   ],
   "metadata": {
    "collapsed": false,
    "ExecuteTime": {
     "end_time": "2024-05-17T14:35:09.836352Z",
     "start_time": "2024-05-17T14:35:09.830729Z"
    }
   },
   "id": "c002f5f3d9a89874"
  },
  {
   "cell_type": "code",
   "execution_count": null,
   "outputs": [],
   "source": [],
   "metadata": {
    "collapsed": false
   },
   "id": "e445dda8fac8a95e"
  }
 ],
 "metadata": {
  "kernelspec": {
   "display_name": "Python 3",
   "language": "python",
   "name": "python3"
  },
  "language_info": {
   "codemirror_mode": {
    "name": "ipython",
    "version": 2
   },
   "file_extension": ".py",
   "mimetype": "text/x-python",
   "name": "python",
   "nbconvert_exporter": "python",
   "pygments_lexer": "ipython2",
   "version": "2.7.6"
  }
 },
 "nbformat": 4,
 "nbformat_minor": 5
}
