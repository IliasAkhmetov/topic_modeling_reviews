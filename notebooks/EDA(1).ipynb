{
 "cells": [
  {
   "cell_type": "code",
   "execution_count": 1,
   "id": "initial_id",
   "metadata": {
    "collapsed": true,
    "ExecuteTime": {
     "end_time": "2024-05-17T16:01:17.591532Z",
     "start_time": "2024-05-17T16:01:17.315839Z"
    }
   },
   "outputs": [],
   "source": [
    "import pandas as pd"
   ]
  },
  {
   "cell_type": "code",
   "execution_count": 10,
   "outputs": [],
   "source": [
    "df_negative = pd.read_csv('../data/negative_reviews.csv', sep=',')\n",
    "df_neutral = pd.read_csv('../data/neutral_reviews.csv', sep=',')\n",
    "df_useful = pd.read_csv('../data/useful_reviews.csv', sep=',')\n",
    "df_fresh = pd.read_csv('../data/fresh_reviews.csv', sep=',')\n",
    "df_merged = pd.concat([df_negative, df_neutral, df_useful, df_fresh], axis = 0).reset_index(drop=True)\n",
    "df_merged = df_merged.drop_duplicates()"
   ],
   "metadata": {
    "collapsed": false,
    "ExecuteTime": {
     "end_time": "2024-05-17T16:43:56.097254Z",
     "start_time": "2024-05-17T16:43:56.066792Z"
    }
   },
   "id": "7f6313be03996c2c"
  },
  {
   "cell_type": "code",
   "execution_count": 11,
   "outputs": [
    {
     "data": {
      "text/plain": "                 Date             City  Score       Review_usage  \\\n0      2 месяца назад            Бугры      1       менее месяца   \n1         Месяц назад     Белые Столбы      1       менее месяца   \n2        5 дней назад     Новошахтинск      1         Не указано   \n3     5 месяцев назад           Москва      1       менее месяца   \n4      2 недели назад           Самара      1         Не указано   \n...               ...              ...    ...                ...   \n2014      Месяц назад       Нижнекамск      4         Не указано   \n2018      Месяц назад  Санкт-Петербург      5  несколько месяцев   \n2023      Месяц назад     Екатеринбург      5       менее месяца   \n2028      Месяц назад            Льгов      5         Не указано   \n2030      Месяц назад           Москва      5       менее месяца   \n\n                                             Review_pro  \\\n0              Айфон 14 на 512 не может не радовать, но   \n1        В остальном все ок, но эта функция очень важна   \n2     Телефон пришел идеальный, НО через две недели ...   \n3                           Достоинств замечено не было   \n4                         Нет блока зарядки и наушников   \n...                                                 ...   \n2014                                         Не указано   \n2018                                   Быстро доставили   \n2023                                         Не указано   \n2028                               яблоко есть яблоко 🍎   \n2030                                   Отличный телефон   \n\n                                          Review_contra  \\\n0     Телефон восстановленный, никто и не думал что ...   \n1                              Не работает модуль e-sim   \n2                                          Описаны выше   \n3                                Худшая покупка в жизни   \n4                                           Разочаровал   \n...                                                 ...   \n2014           Коробка была не очень хорошего состояния   \n2018                                               Нету   \n2023                                         Не указано   \n2028                                         Не указано   \n2030                                         Не указано   \n\n                                         Review_comment  Like_count  \\\n0     В общем и целом, процессор и оперативная памят...           0   \n1     Сегодня забрал айфон из пункта выдачи, при нас...           0   \n2     Товар не оправдал ожиданий, просто попали на д...           0   \n3     Купил у навитойс «новый» iPhone 14, и начались...          10   \n4     К сожалению, цена комплекта без зарядного устр...           0   \n...                                                 ...         ...   \n2014                                         Не указано           0   \n2018                                          Всё супер           0   \n2023                                    Хороший телефон           0   \n2028                                         Не указано           0   \n2030                                         Не указано           0   \n\n      Dislike_counts     Shop_review  \n0                  0      APP-Seller  \n1                  0     White Store  \n2                  0     White Store  \n3                  0        NAVITOYS  \n4                  0       You:store  \n...              ...             ...  \n2014               0       RUBIN-OPT  \n2018               0      Apple Mall  \n2023               0         ТЕХНИСС  \n2028               0  Digital Planet  \n2030               0      mobilezone  \n\n[1403 rows x 10 columns]",
      "text/html": "<div>\n<style scoped>\n    .dataframe tbody tr th:only-of-type {\n        vertical-align: middle;\n    }\n\n    .dataframe tbody tr th {\n        vertical-align: top;\n    }\n\n    .dataframe thead th {\n        text-align: right;\n    }\n</style>\n<table border=\"1\" class=\"dataframe\">\n  <thead>\n    <tr style=\"text-align: right;\">\n      <th></th>\n      <th>Date</th>\n      <th>City</th>\n      <th>Score</th>\n      <th>Review_usage</th>\n      <th>Review_pro</th>\n      <th>Review_contra</th>\n      <th>Review_comment</th>\n      <th>Like_count</th>\n      <th>Dislike_counts</th>\n      <th>Shop_review</th>\n    </tr>\n  </thead>\n  <tbody>\n    <tr>\n      <th>0</th>\n      <td>2 месяца назад</td>\n      <td>Бугры</td>\n      <td>1</td>\n      <td>менее месяца</td>\n      <td>Айфон 14 на 512 не может не радовать, но</td>\n      <td>Телефон восстановленный, никто и не думал что ...</td>\n      <td>В общем и целом, процессор и оперативная памят...</td>\n      <td>0</td>\n      <td>0</td>\n      <td>APP-Seller</td>\n    </tr>\n    <tr>\n      <th>1</th>\n      <td>Месяц назад</td>\n      <td>Белые Столбы</td>\n      <td>1</td>\n      <td>менее месяца</td>\n      <td>В остальном все ок, но эта функция очень важна</td>\n      <td>Не работает модуль e-sim</td>\n      <td>Сегодня забрал айфон из пункта выдачи, при нас...</td>\n      <td>0</td>\n      <td>0</td>\n      <td>White Store</td>\n    </tr>\n    <tr>\n      <th>2</th>\n      <td>5 дней назад</td>\n      <td>Новошахтинск</td>\n      <td>1</td>\n      <td>Не указано</td>\n      <td>Телефон пришел идеальный, НО через две недели ...</td>\n      <td>Описаны выше</td>\n      <td>Товар не оправдал ожиданий, просто попали на д...</td>\n      <td>0</td>\n      <td>0</td>\n      <td>White Store</td>\n    </tr>\n    <tr>\n      <th>3</th>\n      <td>5 месяцев назад</td>\n      <td>Москва</td>\n      <td>1</td>\n      <td>менее месяца</td>\n      <td>Достоинств замечено не было</td>\n      <td>Худшая покупка в жизни</td>\n      <td>Купил у навитойс «новый» iPhone 14, и начались...</td>\n      <td>10</td>\n      <td>0</td>\n      <td>NAVITOYS</td>\n    </tr>\n    <tr>\n      <th>4</th>\n      <td>2 недели назад</td>\n      <td>Самара</td>\n      <td>1</td>\n      <td>Не указано</td>\n      <td>Нет блока зарядки и наушников</td>\n      <td>Разочаровал</td>\n      <td>К сожалению, цена комплекта без зарядного устр...</td>\n      <td>0</td>\n      <td>0</td>\n      <td>You:store</td>\n    </tr>\n    <tr>\n      <th>...</th>\n      <td>...</td>\n      <td>...</td>\n      <td>...</td>\n      <td>...</td>\n      <td>...</td>\n      <td>...</td>\n      <td>...</td>\n      <td>...</td>\n      <td>...</td>\n      <td>...</td>\n    </tr>\n    <tr>\n      <th>2014</th>\n      <td>Месяц назад</td>\n      <td>Нижнекамск</td>\n      <td>4</td>\n      <td>Не указано</td>\n      <td>Не указано</td>\n      <td>Коробка была не очень хорошего состояния</td>\n      <td>Не указано</td>\n      <td>0</td>\n      <td>0</td>\n      <td>RUBIN-OPT</td>\n    </tr>\n    <tr>\n      <th>2018</th>\n      <td>Месяц назад</td>\n      <td>Санкт-Петербург</td>\n      <td>5</td>\n      <td>несколько месяцев</td>\n      <td>Быстро доставили</td>\n      <td>Нету</td>\n      <td>Всё супер</td>\n      <td>0</td>\n      <td>0</td>\n      <td>Apple Mall</td>\n    </tr>\n    <tr>\n      <th>2023</th>\n      <td>Месяц назад</td>\n      <td>Екатеринбург</td>\n      <td>5</td>\n      <td>менее месяца</td>\n      <td>Не указано</td>\n      <td>Не указано</td>\n      <td>Хороший телефон</td>\n      <td>0</td>\n      <td>0</td>\n      <td>ТЕХНИСС</td>\n    </tr>\n    <tr>\n      <th>2028</th>\n      <td>Месяц назад</td>\n      <td>Льгов</td>\n      <td>5</td>\n      <td>Не указано</td>\n      <td>яблоко есть яблоко 🍎</td>\n      <td>Не указано</td>\n      <td>Не указано</td>\n      <td>0</td>\n      <td>0</td>\n      <td>Digital Planet</td>\n    </tr>\n    <tr>\n      <th>2030</th>\n      <td>Месяц назад</td>\n      <td>Москва</td>\n      <td>5</td>\n      <td>менее месяца</td>\n      <td>Отличный телефон</td>\n      <td>Не указано</td>\n      <td>Не указано</td>\n      <td>0</td>\n      <td>0</td>\n      <td>mobilezone</td>\n    </tr>\n  </tbody>\n</table>\n<p>1403 rows × 10 columns</p>\n</div>"
     },
     "execution_count": 11,
     "metadata": {},
     "output_type": "execute_result"
    }
   ],
   "source": [
    "df_merged"
   ],
   "metadata": {
    "collapsed": false,
    "ExecuteTime": {
     "end_time": "2024-05-17T16:43:56.451782Z",
     "start_time": "2024-05-17T16:43:56.449637Z"
    }
   },
   "id": "fe338ccbd464ee25"
  },
  {
   "cell_type": "code",
   "execution_count": 12,
   "outputs": [
    {
     "data": {
      "text/plain": "(1403, 10)"
     },
     "execution_count": 12,
     "metadata": {},
     "output_type": "execute_result"
    }
   ],
   "source": [
    "df_merged.shape"
   ],
   "metadata": {
    "collapsed": false,
    "ExecuteTime": {
     "end_time": "2024-05-17T16:43:58.289230Z",
     "start_time": "2024-05-17T16:43:58.285211Z"
    }
   },
   "id": "7e250657de5edf87"
  },
  {
   "cell_type": "code",
   "execution_count": 5,
   "outputs": [
    {
     "data": {
      "text/plain": "Score\n5    1000\n4     202\n1      75\n3      57\n2      18\nName: count, dtype: int64"
     },
     "execution_count": 5,
     "metadata": {},
     "output_type": "execute_result"
    }
   ],
   "source": [
    "df_merged['Score'].value_counts()"
   ],
   "metadata": {
    "collapsed": false,
    "ExecuteTime": {
     "end_time": "2024-05-17T16:01:30.702429Z",
     "start_time": "2024-05-17T16:01:30.698982Z"
    }
   },
   "id": "c002f5f3d9a89874"
  },
  {
   "cell_type": "code",
   "execution_count": 6,
   "outputs": [
    {
     "data": {
      "text/plain": "City\nМосква             274\nСанкт-Петербург     80\nЕкатеринбург        47\nКраснодар           38\nНе указано          27\n                  ... \nШатурторф            1\nЭсто-Садок           1\nКинешма              1\nВоскресенское        1\nКалининская          1\nName: count, Length: 370, dtype: int64"
     },
     "execution_count": 6,
     "metadata": {},
     "output_type": "execute_result"
    }
   ],
   "source": [
    "df_merged['City'].value_counts()"
   ],
   "metadata": {
    "collapsed": false,
    "ExecuteTime": {
     "end_time": "2024-05-17T16:01:50.197531Z",
     "start_time": "2024-05-17T16:01:50.186064Z"
    }
   },
   "id": "e445dda8fac8a95e"
  },
  {
   "cell_type": "code",
   "execution_count": 7,
   "outputs": [
    {
     "data": {
      "text/plain": "Review_usage\nНе указано           747\nменее месяца         460\nнесколько месяцев    130\nболее года            15\nName: count, dtype: int64"
     },
     "execution_count": 7,
     "metadata": {},
     "output_type": "execute_result"
    }
   ],
   "source": [
    "df_merged['Review_usage'].value_counts()"
   ],
   "metadata": {
    "collapsed": false,
    "ExecuteTime": {
     "end_time": "2024-05-17T16:02:23.789283Z",
     "start_time": "2024-05-17T16:02:23.775329Z"
    }
   },
   "id": "167f84cc85b6884e"
  },
  {
   "cell_type": "code",
   "execution_count": 13,
   "outputs": [
    {
     "data": {
      "text/plain": "(40, 10)"
     },
     "execution_count": 13,
     "metadata": {},
     "output_type": "execute_result"
    }
   ],
   "source": [
    "df_fresh = pd.read_csv('../data/old_reviews.csv', sep=',')\n",
    "df_fresh.shape"
   ],
   "metadata": {
    "collapsed": false,
    "ExecuteTime": {
     "end_time": "2024-05-17T16:50:13.470126Z",
     "start_time": "2024-05-17T16:50:13.462609Z"
    }
   },
   "id": "2204cc5180b13b97"
  },
  {
   "cell_type": "code",
   "execution_count": null,
   "outputs": [],
   "source": [],
   "metadata": {
    "collapsed": false
   },
   "id": "134bc3f3276e7fab"
  }
 ],
 "metadata": {
  "kernelspec": {
   "display_name": "Python 3",
   "language": "python",
   "name": "python3"
  },
  "language_info": {
   "codemirror_mode": {
    "name": "ipython",
    "version": 2
   },
   "file_extension": ".py",
   "mimetype": "text/x-python",
   "name": "python",
   "nbconvert_exporter": "python",
   "pygments_lexer": "ipython2",
   "version": "2.7.6"
  }
 },
 "nbformat": 4,
 "nbformat_minor": 5
}
