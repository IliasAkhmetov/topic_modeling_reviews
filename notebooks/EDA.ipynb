{
 "cells": [
  {
   "cell_type": "code",
   "execution_count": 1,
   "id": "initial_id",
   "metadata": {
    "collapsed": true,
    "ExecuteTime": {
     "end_time": "2024-05-17T12:58:45.669542Z",
     "start_time": "2024-05-17T12:58:45.429879Z"
    }
   },
   "outputs": [],
   "source": [
    "import pandas as pd"
   ]
  },
  {
   "cell_type": "code",
   "execution_count": 4,
   "outputs": [
    {
     "data": {
      "text/plain": "               Date         City  Score  Review_usage  \\\n995  2 месяца назад      Алёшино      5    Не указано   \n996     Месяц назад       Москва      5    Не указано   \n997     Месяц назад  Калининская      5    Не указано   \n998  2 месяца назад       Москва      5  менее месяца   \n999     Месяц назад      Сызрань      5  менее месяца   \n\n                                            Review_pro  \\\n995                                         Не указано   \n996                                       Мне нравится   \n997  всё отлично 👌 спасибо продавцу рекомендую прод...   \n998                      Бессменной оригинальный айфон   \n999                          Оригинал. Не активирован.   \n\n                                         Review_contra  \\\n995                                         Не указано   \n996                                         Не указано   \n997                                         Не указано   \n998  Цена на данный момент завышена, лучше переплот...   \n999                                         Не указано   \n\n                                        Review_comment  Like_count  \\\n995  Спасибо большое продавцу,всё отлично,коробка н...           0   \n996                                         Не указано           0   \n997                                         Не указано           1   \n998                                         Не указано           0   \n999                 Большое спасибо за доставку в срок           0   \n\n     Dislike_counts        Shop_review  \n995               0            S.Store  \n996               0           ID Store  \n997               0  Tech Story market  \n998               0           100STORE  \n999               0          EL-CASTLE  ",
      "text/html": "<div>\n<style scoped>\n    .dataframe tbody tr th:only-of-type {\n        vertical-align: middle;\n    }\n\n    .dataframe tbody tr th {\n        vertical-align: top;\n    }\n\n    .dataframe thead th {\n        text-align: right;\n    }\n</style>\n<table border=\"1\" class=\"dataframe\">\n  <thead>\n    <tr style=\"text-align: right;\">\n      <th></th>\n      <th>Date</th>\n      <th>City</th>\n      <th>Score</th>\n      <th>Review_usage</th>\n      <th>Review_pro</th>\n      <th>Review_contra</th>\n      <th>Review_comment</th>\n      <th>Like_count</th>\n      <th>Dislike_counts</th>\n      <th>Shop_review</th>\n    </tr>\n  </thead>\n  <tbody>\n    <tr>\n      <th>995</th>\n      <td>2 месяца назад</td>\n      <td>Алёшино</td>\n      <td>5</td>\n      <td>Не указано</td>\n      <td>Не указано</td>\n      <td>Не указано</td>\n      <td>Спасибо большое продавцу,всё отлично,коробка н...</td>\n      <td>0</td>\n      <td>0</td>\n      <td>S.Store</td>\n    </tr>\n    <tr>\n      <th>996</th>\n      <td>Месяц назад</td>\n      <td>Москва</td>\n      <td>5</td>\n      <td>Не указано</td>\n      <td>Мне нравится</td>\n      <td>Не указано</td>\n      <td>Не указано</td>\n      <td>0</td>\n      <td>0</td>\n      <td>ID Store</td>\n    </tr>\n    <tr>\n      <th>997</th>\n      <td>Месяц назад</td>\n      <td>Калининская</td>\n      <td>5</td>\n      <td>Не указано</td>\n      <td>всё отлично 👌 спасибо продавцу рекомендую прод...</td>\n      <td>Не указано</td>\n      <td>Не указано</td>\n      <td>1</td>\n      <td>0</td>\n      <td>Tech Story market</td>\n    </tr>\n    <tr>\n      <th>998</th>\n      <td>2 месяца назад</td>\n      <td>Москва</td>\n      <td>5</td>\n      <td>менее месяца</td>\n      <td>Бессменной оригинальный айфон</td>\n      <td>Цена на данный момент завышена, лучше переплот...</td>\n      <td>Не указано</td>\n      <td>0</td>\n      <td>0</td>\n      <td>100STORE</td>\n    </tr>\n    <tr>\n      <th>999</th>\n      <td>Месяц назад</td>\n      <td>Сызрань</td>\n      <td>5</td>\n      <td>менее месяца</td>\n      <td>Оригинал. Не активирован.</td>\n      <td>Не указано</td>\n      <td>Большое спасибо за доставку в срок</td>\n      <td>0</td>\n      <td>0</td>\n      <td>EL-CASTLE</td>\n    </tr>\n  </tbody>\n</table>\n</div>"
     },
     "execution_count": 4,
     "metadata": {},
     "output_type": "execute_result"
    }
   ],
   "source": [
    "df = pd.read_csv('../data/useful_reviews.csv', sep=',')\n",
    "df.tail()"
   ],
   "metadata": {
    "collapsed": false,
    "ExecuteTime": {
     "end_time": "2024-05-17T12:59:10.769171Z",
     "start_time": "2024-05-17T12:59:10.741631Z"
    }
   },
   "id": "2b7b35a7a7018c72"
  },
  {
   "cell_type": "code",
   "execution_count": null,
   "outputs": [],
   "source": [],
   "metadata": {
    "collapsed": false
   },
   "id": "5a25578e6871f2e"
  }
 ],
 "metadata": {
  "kernelspec": {
   "display_name": "Python 3",
   "language": "python",
   "name": "python3"
  },
  "language_info": {
   "codemirror_mode": {
    "name": "ipython",
    "version": 2
   },
   "file_extension": ".py",
   "mimetype": "text/x-python",
   "name": "python",
   "nbconvert_exporter": "python",
   "pygments_lexer": "ipython2",
   "version": "2.7.6"
  }
 },
 "nbformat": 4,
 "nbformat_minor": 5
}
