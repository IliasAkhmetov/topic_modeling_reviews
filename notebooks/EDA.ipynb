{
 "cells": [
  {
   "cell_type": "code",
   "execution_count": 9,
   "id": "initial_id",
   "metadata": {
    "collapsed": true,
    "ExecuteTime": {
     "end_time": "2024-05-17T14:27:14.580743Z",
     "start_time": "2024-05-17T14:27:14.574540Z"
    }
   },
   "outputs": [],
   "source": [
    "import pandas as pd"
   ]
  },
  {
   "cell_type": "code",
   "execution_count": 10,
   "outputs": [],
   "source": [
    "df = pd.read_csv('../data/useful_reviews.csv', sep=',')\n",
    "df.tail()"
   ],
   "metadata": {
    "collapsed": false,
    "ExecuteTime": {
     "end_time": "2024-05-17T14:27:14.872763Z",
     "start_time": "2024-05-17T14:27:14.847777Z"
    }
   },
   "id": "2b7b35a7a7018c72"
  },
  {
   "cell_type": "code",
   "execution_count": 11,
   "outputs": [
    {
     "data": {
      "text/plain": "              Date          City  Score  Review_usage  \\\n0   2 месяца назад         Бугры      1  менее месяца   \n1      Месяц назад  Белые Столбы      1  менее месяца   \n2     5 дней назад  Новошахтинск      1    Не указано   \n3  5 месяцев назад        Москва      1  менее месяца   \n4   2 недели назад        Самара      1    Не указано   \n\n                                          Review_pro  \\\n0           Айфон 14 на 512 не может не радовать, но   \n1     В остальном все ок, но эта функция очень важна   \n2  Телефон пришел идеальный, НО через две недели ...   \n3                        Достоинств замечено не было   \n4                      Нет блока зарядки и наушников   \n\n                                       Review_contra  \\\n0  Телефон восстановленный, никто и не думал что ...   \n1                           Не работает модуль e-sim   \n2                                       Описаны выше   \n3                             Худшая покупка в жизни   \n4                                        Разочаровал   \n\n                                      Review_comment  Like_count  \\\n0  В общем и целом, процессор и оперативная памят...           0   \n1  Сегодня забрал айфон из пункта выдачи, при нас...           0   \n2  Товар не оправдал ожиданий, просто попали на д...           0   \n3  Купил у навитойс «новый» iPhone 14, и начались...          10   \n4  К сожалению, цена комплекта без зарядного устр...           0   \n\n   Dislike_counts  Shop_review  \n0               0   APP-Seller  \n1               0  White Store  \n2               0  White Store  \n3               0     NAVITOYS  \n4               0    You:store  ",
      "text/html": "<div>\n<style scoped>\n    .dataframe tbody tr th:only-of-type {\n        vertical-align: middle;\n    }\n\n    .dataframe tbody tr th {\n        vertical-align: top;\n    }\n\n    .dataframe thead th {\n        text-align: right;\n    }\n</style>\n<table border=\"1\" class=\"dataframe\">\n  <thead>\n    <tr style=\"text-align: right;\">\n      <th></th>\n      <th>Date</th>\n      <th>City</th>\n      <th>Score</th>\n      <th>Review_usage</th>\n      <th>Review_pro</th>\n      <th>Review_contra</th>\n      <th>Review_comment</th>\n      <th>Like_count</th>\n      <th>Dislike_counts</th>\n      <th>Shop_review</th>\n    </tr>\n  </thead>\n  <tbody>\n    <tr>\n      <th>0</th>\n      <td>2 месяца назад</td>\n      <td>Бугры</td>\n      <td>1</td>\n      <td>менее месяца</td>\n      <td>Айфон 14 на 512 не может не радовать, но</td>\n      <td>Телефон восстановленный, никто и не думал что ...</td>\n      <td>В общем и целом, процессор и оперативная памят...</td>\n      <td>0</td>\n      <td>0</td>\n      <td>APP-Seller</td>\n    </tr>\n    <tr>\n      <th>1</th>\n      <td>Месяц назад</td>\n      <td>Белые Столбы</td>\n      <td>1</td>\n      <td>менее месяца</td>\n      <td>В остальном все ок, но эта функция очень важна</td>\n      <td>Не работает модуль e-sim</td>\n      <td>Сегодня забрал айфон из пункта выдачи, при нас...</td>\n      <td>0</td>\n      <td>0</td>\n      <td>White Store</td>\n    </tr>\n    <tr>\n      <th>2</th>\n      <td>5 дней назад</td>\n      <td>Новошахтинск</td>\n      <td>1</td>\n      <td>Не указано</td>\n      <td>Телефон пришел идеальный, НО через две недели ...</td>\n      <td>Описаны выше</td>\n      <td>Товар не оправдал ожиданий, просто попали на д...</td>\n      <td>0</td>\n      <td>0</td>\n      <td>White Store</td>\n    </tr>\n    <tr>\n      <th>3</th>\n      <td>5 месяцев назад</td>\n      <td>Москва</td>\n      <td>1</td>\n      <td>менее месяца</td>\n      <td>Достоинств замечено не было</td>\n      <td>Худшая покупка в жизни</td>\n      <td>Купил у навитойс «новый» iPhone 14, и начались...</td>\n      <td>10</td>\n      <td>0</td>\n      <td>NAVITOYS</td>\n    </tr>\n    <tr>\n      <th>4</th>\n      <td>2 недели назад</td>\n      <td>Самара</td>\n      <td>1</td>\n      <td>Не указано</td>\n      <td>Нет блока зарядки и наушников</td>\n      <td>Разочаровал</td>\n      <td>К сожалению, цена комплекта без зарядного устр...</td>\n      <td>0</td>\n      <td>0</td>\n      <td>You:store</td>\n    </tr>\n  </tbody>\n</table>\n</div>"
     },
     "execution_count": 11,
     "metadata": {},
     "output_type": "execute_result"
    }
   ],
   "source": [],
   "metadata": {
    "collapsed": false,
    "ExecuteTime": {
     "end_time": "2024-05-17T14:27:15.127461Z",
     "start_time": "2024-05-17T14:27:15.124144Z"
    }
   },
   "id": "5a25578e6871f2e"
  }
 ],
 "metadata": {
  "kernelspec": {
   "display_name": "Python 3",
   "language": "python",
   "name": "python3"
  },
  "language_info": {
   "codemirror_mode": {
    "name": "ipython",
    "version": 2
   },
   "file_extension": ".py",
   "mimetype": "text/x-python",
   "name": "python",
   "nbconvert_exporter": "python",
   "pygments_lexer": "ipython2",
   "version": "2.7.6"
  }
 },
 "nbformat": 4,
 "nbformat_minor": 5
}
